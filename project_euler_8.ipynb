{
 "cells": [
  {
   "cell_type": "code",
   "execution_count": 55,
   "metadata": {},
   "outputs": [
    {
     "name": "stdout",
     "output_type": "stream",
     "text": [
      "[8, 1, 6, 2, 4, 6, 2, 9, 0, 7, 1, 3, 9, 6, 0, 5, 9, 7, 0, 3, 8, 3, 7, 5, 3, 3, 0, 8, 7, 8, 4, 8, 1, 6, 4, 2, 5, 6, 1, 1, 4, 6, 3, 3, 9, 0, 8, 1, 2, 9, 5, 0, 7, 4, 0, 9, 9, 4, 5, 2, 2, 8, 5, 5, 7, 3, 7, 6, 2, 8, 1, 0, 4, 7, 3, 5, 7, 3, 8, 2, 7, 7, 3, 7, 5, 3, 2, 9, 8, 5, 0, 4, 5, 6, 9, 9, 5, 6, 9, 9, 5, 4, 8, 9, 6, 1, 9, 4, 4, 5, 4, 0, 3, 6, 9, 7, 1, 6, 4, 1, 1, 2, 7, 0, 1, 1, 3, 1, 3, 6, 1, 3, 2, 6, 8, 0, 5, 8, 0, 2, 3, 0, 9, 5, 5, 8, 7, 3, 5, 2, 1, 3, 1, 5, 8, 9, 8, 3, 2, 5, 1, 0, 6, 1, 8, 6, 4, 8, 0, 2, 4, 5, 5, 8, 5, 0, 5, 3, 1, 6, 4, 5, 2, 9, 4, 3, 2, 5, 7, 9, 9, 7, 4, 3, 9, 6, 4, 2, 3, 5, 2, 9, 2, 9, 2, 5, 6, 5, 9, 3, 5, 3, 1, 4, 3, 5, 4, 2, 1, 6, 6, 6, 9, 0, 5, 1, 5, 4, 7, 5, 5, 4, 1, 3, 1, 6, 5, 3, 0, 5, 0, 7, 2, 1, 2, 7, 6, 8, 3, 3, 5, 0, 8, 0, 2, 1, 5, 4, 6, 0, 0, 3, 0, 2, 5, 7, 1, 5, 1, 9, 5, 9, 0, 8, 6, 8, 6, 6, 7, 2, 6, 9, 9, 3, 5, 2, 5, 9, 6, 8, 0, 6, 4, 7, 8, 9, 6, 1, 7, 2, 0, 2, 1, 9, 5, 7, 8, 4, 7, 5, 0, 2, 7, 2, 8, 3, 5, 6, 1, 1, 9, 4, 1, 6, 7, 0, 3, 6, 4, 8, 6, 9, 6, 7, 4, 2, 7, 9, 8, 9, 5, 2, 6, 3, 5, 4, 1, 7, 8, 3, 5, 9, 0, 4, 8, 5, 3, 5, 9, 0, 6, 7, 4, 3, 9, 9, 3, 7, 2, 4, 9, 0, 0, 3, 3, 3, 0, 4, 7, 8, 0, 9, 8, 1, 6, 8, 4, 3, 7, 7, 6, 3, 6, 3, 9, 3, 8, 8, 4, 9, 8, 9, 3, 5, 0, 8, 7, 6, 7, 5, 5, 4, 8, 0, 0, 6, 2, 5, 8, 7, 7, 8, 7, 4, 0, 8, 5, 3, 8, 4, 1, 0, 4, 2, 0, 1, 1, 9, 6, 4, 9, 9, 5, 3, 8, 2, 4, 4, 6, 2, 2, 9, 8, 3, 8, 7, 3, 1, 2, 8, 3, 4, 3, 7, 2, 1, 3, 0, 4, 4, 2, 6, 3, 4, 6, 5, 8, 8, 8, 4, 9, 2, 0, 0, 9, 6, 1, 4, 2, 3, 0, 0, 8, 5, 3, 4, 1, 4, 0, 7, 0, 9, 8, 3, 5, 2, 9, 1, 9, 8, 5, 5, 8, 7, 1, 3, 2, 1, 0, 4, 8, 9, 1, 1, 5, 7, 6, 7, 6, 3, 1, 6, 7, 8, 2, 6, 9, 4, 0, 0, 2, 9, 2, 0, 2, 3, 7, 7, 3, 1, 9, 5, 3, 2, 8, 0, 9, 7, 6, 8, 1, 3, 2, 7, 3, 6, 0, 3, 0, 6, 8, 9, 6, 7, 3, 7, 5, 1, 9, 0, 4, 7, 5, 1, 8, 2, 9, 8, 5, 3, 6, 3, 7, 7, 1, 3, 7, 5, 7, 7, 0, 0, 9, 0, 2, 8, 7, 3, 5, 2, 7, 3, 2, 0, 8, 5, 0, 4, 5, 0, 0, 9, 7, 9, 5, 5, 8, 3, 7, 4, 3, 9, 2, 8, 9, 0, 3, 8, 5, 3, 6, 9, 9, 5, 3, 0, 9, 0, 0, 9, 4, 9, 1, 4, 6, 4, 5, 4, 1, 4, 5, 7, 7, 4, 0, 7, 0, 2, 2, 7, 5, 4, 3, 2, 8, 3, 3, 3, 0, 7, 7, 6, 7, 5, 7, 4, 4, 2, 8, 6, 2, 8, 6, 8, 2, 8, 2, 3, 6, 4, 0, 9, 3, 9, 7, 9, 6, 0, 9, 6, 1, 8, 0, 4, 1, 2, 2, 4, 0, 7, 0, 1, 5, 9, 2, 7, 3, 2, 7, 1, 0, 5, 9, 4, 1, 1, 6, 6, 5, 6, 4, 2, 6, 2, 9, 8, 5, 0, 8, 4, 2, 9, 9, 7, 5, 3, 3, 7, 3, 6, 3, 9, 4, 5, 6, 5, 2, 3, 9, 8, 5, 3, 5, 7, 3, 5, 2, 6, 3, 9, 2, 0, 2, 0, 6, 3, 8, 8, 0, 1, 7, 0, 7, 5, 9, 7, 2, 6, 3, 0, 7, 9, 2, 7, 2, 2, 6, 6, 8, 6, 7, 2, 3, 5, 2, 4, 7, 7, 4, 5, 1, 5, 7, 8, 9, 2, 3, 8, 6, 4, 5, 8, 7, 6, 4, 0, 9, 1, 3, 5, 6, 1, 9, 0, 2, 1, 6, 7, 9, 1, 5, 5, 8, 1, 1, 5, 6, 4, 8, 8, 3, 0, 5, 7, 8, 4, 0, 0, 6, 4, 5, 1, 1, 9, 3, 0, 6, 5, 3, 3, 4, 1, 9, 4, 3, 4, 9, 5, 8, 3, 5, 1, 5, 8, 4, 1, 1, 4, 5, 3, 1, 0, 7, 9, 1, 4, 7, 3, 9, 9, 0, 1, 9, 3, 8, 6, 8, 8, 2, 4, 9, 0, 8, 5, 1, 0, 6, 0, 0, 4, 2, 3, 3, 2, 8, 6, 2, 0, 6, 2, 4, 7, 6, 9, 1, 8, 4, 3, 8, 7, 3, 9, 1, 8, 2, 3, 1, 3, 4, 8, 8, 6, 1, 8, 5, 6, 3, 2, 0, 7, 3, 8, 3, 5, 4, 3, 9, 2, 6, 9, 4, 1, 5, 6, 2, 2, 4, 8, 4, 2, 7, 9, 3, 8, 6, 1, 5, 7, 2, 2]\n",
      "Sample array size = 1500000\n",
      "Average sample size = 4.496976666666667\n"
     ]
    }
   ],
   "source": [
    "from statistics import mean\n",
    "import numpy as np\n",
    "\n",
    "# string_number = '7316717653133062491922511967442657474235534919493496983520312774506326239578318016984801869478851843858615607891129494954595017379583319528532088055111254069874715852386305071569329096329522744304355766896648950445244523161731856403098711121722383113622298934233803081353362766142828064444866452387493035890729629049156044077239071381051585930796086670172427121883998797908792274921901699720888093776657273330010533678812202354218097512545405947522435258490771167055601360483958644670632441572215539753697817977846174064955149290862569321978468622482839722413756570560574902614079729686524145351004748216637048440319989000889524345065854122758866688116427171479924442928230863465674813919123162824586178664583591245665294765456828489128831426076900422421902267105562632111110937054421750694165896040807198403850962455444362981230987879927244284909188845801561660979191338754992005240636899125607176060588611646710940507754100225698315520005593572972571636269561882670428252483600823257530420752963450'\n",
    "# string_number = np.random.randint(9, size=1500000)+1\n",
    "string_number = np.random.randint(10, size=1500000)\n",
    "# string_number = '123456789012345678991234567899'\n",
    "\n",
    "array_number = list(map(int, list(string_number)))\n",
    "print(array_number[:1000])\n",
    "print(\"Sample array size = \" + str(len(array_number)))\n",
    "print(\"Average sample size = \" + str(mean(array_number)))\n",
    "\n",
    "from functools import reduce\n",
    "import operator"
   ]
  },
  {
   "cell_type": "code",
   "execution_count": 56,
   "metadata": {},
   "outputs": [
    {
     "name": "stdout",
     "output_type": "stream",
     "text": [
      "!!==============HIGHEST PRODUCT================!!\n",
      "[8, 8, 9, 8, 6, 9, 8, 7, 7, 9, 9, 7, 9]\n",
      "Result = 497757560832\n",
      "average = 8\n",
      "!!=============================================!!\n"
     ]
    }
   ],
   "source": [
    "# Temp array\n",
    "array = array_number[0:13]\n",
    "\n",
    "# Highest product array\n",
    "hp_array = array\n",
    "\n",
    "# Highest product last index\n",
    "hp_index = 13\n",
    "\n",
    "# Highest sum number\n",
    "# Starts with 0\n",
    "hsn = 0\n",
    "\n",
    "if 0 not in array:\n",
    "    hsn = reduce(operator.mul, array, 1)\n",
    "\n",
    "# Initial cursor index\n",
    "cur = 13\n",
    "\n",
    "# Iterate array start from initial cursor\n",
    "while cur <= len(array_number):\n",
    "    \n",
    "    # Array start index\n",
    "    base = cur - 13\n",
    "    \n",
    "    # Generate array within cursor and previous 12 digits\n",
    "    array = array_number[base:cur]\n",
    "    \n",
    "    # Ignore if array consists zero\n",
    "    if 0 not in array:\n",
    "        mulp = reduce(operator.mul, array, 1)\n",
    "        \n",
    "        # Please ignore, for research only\n",
    "        #if mean(hp_array) < mean(array):\n",
    "        #   print(\"average comparison = \" + str(mean(hp_array)) + \" vs \" + str(mean(array)) + \", diff \" + str(mean(hp_array) - mean(array)))\n",
    "        \n",
    "        # Compare highest product\n",
    "        if hsn < mulp:\n",
    "            hsn = mulp\n",
    "            hp_index = cur\n",
    "            hp_array = array\n",
    "    \n",
    "    # Cursor Increament\n",
    "    cur = cur + 1\n",
    "    \n",
    "\n",
    "print(\"!!==============HIGHEST PRODUCT================!!\")\n",
    "print(hp_array)\n",
    "print(\"Result = \" + str(hsn))\n",
    "print(\"average = \" + str(mean(hp_array)))\n",
    "print(\"!!=============================================!!\")"
   ]
  },
  {
   "cell_type": "code",
   "execution_count": 59,
   "metadata": {},
   "outputs": [
    {
     "name": "stdout",
     "output_type": "stream",
     "text": [
      "!!==============HIGHEST PRODUCT================!!\n",
      "[8, 8, 9, 8, 6, 9, 8, 7, 7, 9, 9, 7, 9]\n",
      "Result = 497757560832.0\n",
      "average = 8\n",
      "!!=============================================!!\n"
     ]
    }
   ],
   "source": [
    "array = list()\n",
    "\n",
    "# Highest product array\n",
    "hp_array = array.copy()\n",
    "\n",
    "# Highest sum number\n",
    "hsn = 0\n",
    "\n",
    "# Multiplication value\n",
    "mulp = hsn\n",
    "\n",
    "index = 0\n",
    "\n",
    "# Iterate array number\n",
    "while index < len(array_number):\n",
    "    \n",
    "    # Check element in index is zero\n",
    "    # Clear array and reset multiplication value\n",
    "    if array_number[index] == 0:\n",
    "        array.clear()\n",
    "        mulp = 0\n",
    "    \n",
    "    # Element isnt zero\n",
    "    else:\n",
    "        \n",
    "        # Add new element to array\n",
    "        new_element = array_number[index]\n",
    "        array.append(new_element)\n",
    "     \n",
    "        # Check if array is 13 or more\n",
    "        if len(array) >= 13:\n",
    "            \n",
    "            # If array length is 13\n",
    "            # Run manual calculation\n",
    "            if len(array) == 13:\n",
    "                mulp = reduce(operator.mul, array, 1)\n",
    "\n",
    "            # Secret recipe\n",
    "            # Get largest product by dividing previous first element then multiply new element\n",
    "            # \n",
    "            else:\n",
    "                prev_first_element = array[0]\n",
    "                del array[0]\n",
    "                \n",
    "                mulp = mulp / prev_first_element * new_element\n",
    "\n",
    "            if mulp > hsn:\n",
    "                hsn = mulp\n",
    "                hp_array = array.copy()\n",
    "                \n",
    "    index = index + 1\n",
    "            \n",
    "print(\"!!==============HIGHEST PRODUCT================!!\")\n",
    "print(hp_array)\n",
    "print(\"Result = \" + str(hsn))\n",
    "print(\"average = \" + str(mean(hp_array)))\n",
    "print(\"!!=============================================!!\")"
   ]
  },
  {
   "cell_type": "code",
   "execution_count": null,
   "metadata": {},
   "outputs": [],
   "source": []
  }
 ],
 "metadata": {
  "kernelspec": {
   "display_name": "Python 3",
   "language": "python",
   "name": "python3"
  },
  "language_info": {
   "codemirror_mode": {
    "name": "ipython",
    "version": 3
   },
   "file_extension": ".py",
   "mimetype": "text/x-python",
   "name": "python",
   "nbconvert_exporter": "python",
   "pygments_lexer": "ipython3",
   "version": "3.6.5"
  }
 },
 "nbformat": 4,
 "nbformat_minor": 2
}
